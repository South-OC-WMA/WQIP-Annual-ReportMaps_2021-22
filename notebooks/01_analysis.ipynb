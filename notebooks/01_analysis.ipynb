{
 "cells": [
  {
   "cell_type": "markdown",
   "metadata": {},
   "source": [
    "# Analysis\n",
    "\n",
    "This notebook formats raw data and creates data for map products"
   ]
  },
  {
   "cell_type": "code",
   "execution_count": 1,
   "metadata": {},
   "outputs": [],
   "source": [
    "import os\n",
    "import sys\n",
    "import arcpy\n",
    "import pandas as pd\n",
    "import numpy as np\n",
    "from arcgis.gis import GIS\n",
    "from arcgis.features import GeoAccessor\n",
    "from pathlib import Path"
   ]
  },
  {
   "cell_type": "code",
   "execution_count": 28,
   "metadata": {},
   "outputs": [],
   "source": [
    "# Common paths\n",
    "dir_project = Path.cwd().parent\n",
    "dir_data = dir_project/'data'\n",
    "dir_raw = dir_data/'raw'\n",
    "dir_processed = dir_data/'processed'\n",
    "gdb_processed = dir_processed/'processed.gdb'\n",
    "aprx_name = 'SDR_WQIP_AnnualReport.aprx'\n",
    "\n",
    "aprx = arcpy.mp.ArcGISProject(dir_project/'arcgis'/aprx_name)"
   ]
  },
  {
   "attachments": {},
   "cell_type": "markdown",
   "metadata": {},
   "source": [
    "## Appendix C1 Bioassessment\n",
    "\n",
    "- Arcgis maps require two datasets for producing appendix C1 bioassessment maps\n",
    "  - bio_stations\n",
    "  - bio_trends\n",
    "- Data taken from \"Maps info spreadsheet_2022.xlsx\" recieved 01/04/2023\n",
    "  - All instances of \"ALC04@Aliso Park\" were replaced to \"ALC04@AlisoPark\"\n",
    "\n"
   ]
  },
  {
   "cell_type": "markdown",
   "metadata": {},
   "source": [
    "#### Function Definitions"
   ]
  },
  {
   "cell_type": "code",
   "execution_count": 29,
   "metadata": {},
   "outputs": [],
   "source": [
    "# Function definitions\n",
    "def create_stations(raw_data: dict, key: str = '2022 Site Locations'):\n",
    "    '''Creates spatial data from spreadsheet coordinates\n",
    "        \n",
    "        Parameters\n",
    "            raw_data: Dictionary of excel sheets from pandas.read_excel\n",
    "            key: Sheet name\n",
    "            \n",
    "        Returns\n",
    "            spatial data frame\n",
    "    '''\n",
    "    \n",
    "    df = (\n",
    "        raw_data[key].loc[0:4]\n",
    "        .rename(columns=raw_data[key].iloc[0])\n",
    "        .loc[1:]\n",
    "        .iloc[:, [1, 2, 3, 4, 5, 6]]\n",
    "        .rename(columns=lambda col: 'StationDescription' if col == 'Station Description' else col)\n",
    "    )\n",
    "    return (pd.DataFrame\n",
    "            .spatial\n",
    "            .from_xy(df=df, x_column='Longitude', y_column='Latitude', sr=4326)\n",
    "           )\n",
    "    \n",
    "\n",
    "def create_stations_historic(raw_data: dict, key: str = 'All Site Locations'):\n",
    "    '''Creates spatial data for all stations combining current data with historic stations\n",
    "    \n",
    "        Parameters\n",
    "            raw_data: Dictionary of excel sheets from pandas.read_excel\n",
    "            key: Sheet name\n",
    "            \n",
    "        Returns\n",
    "            pandas data frame\n",
    "    '''\n",
    "\n",
    "    return(\n",
    "        raw_data[key][['Station', 'Latitude', 'Longitude', 'StationDescription']]\n",
    "        # .append(create_stations(raw_data=raw_data)[['Station', 'Latitude', 'Longitude', 'StationDescription']])\n",
    "    )\n",
    "\n",
    "\n",
    "def add_current_scores(raw_data: dict, csci_buckets: list = [0, .62, .79, .92, 1],\n",
    "                       cram_buckets: list = [0, 43, 62, 81, 100], colors: list =['Red', 'Orange', 'Yellow', 'Blue']):\n",
    "    '''Add the CSCI and CRAM data to the current monitoring year stations, results are binned\n",
    "    \n",
    "        Parameters\n",
    "            raw_data: Dictionary of excel sheets from pandas.read_excel\n",
    "            csci_buckets: Bins for CSCI symbology\n",
    "            cram_buckets: Bins for CRAM symbology\n",
    "            colors: Text color for bins\n",
    "            \n",
    "        Returns\n",
    "            pandas data frame\n",
    "    '''\n",
    "    score_key = '2021 CSCI and CRAM scores'\n",
    "    \n",
    "    df = (\n",
    "        create_stations(raw_data)\n",
    "        .merge(raw_data[score_key]\n",
    "               .rename(columns=lambda col: 'Station' if col == 'station' else col)\n",
    "               .iloc[:, [0, 1, 2]]\n",
    "               .rename(columns=lambda col: col.replace(' ', ''))\n",
    "               .rename(columns=lambda col: col.replace('_', '')),\n",
    "               on=['Station'], how='left')\n",
    "    )\n",
    "    \n",
    "    df['CSCIColor'] = pd.cut(\n",
    "        x=df['CSCIScore'], bins=csci_buckets, labels=colors)\n",
    "    df['CRAMColor'] = pd.cut(\n",
    "        x=df['CRAMScore'], bins=cram_buckets, labels=colors)\n",
    "    \n",
    "    return (df\n",
    "            .assign(** {c: lambda df_, c=c: df_[c].astype('str') for c in ['CRAMColor', 'CSCIColor']})\n",
    "    )\n",
    "\n",
    "\n",
    "def add_mean_scores(raw_data: dict, csci_buckets: list = [0, .62, .79, .92, 1],\n",
    "                    cram_buckets: list = [0, 43, 62, 81, 100], colors: list = ['Red', 'Orange', 'Yellow', 'Blue'],\n",
    "                    h20_buckets: list =[0, 19, 34, 48, 57]):\n",
    "    '''Adds the mean historic data and trend data to stations\n",
    "    \n",
    "        Parameters\n",
    "            raw_data: Dictionary of excel sheets from pandas.read_excel\n",
    "            csci_buckets: Bins for CSCI symbology\n",
    "            cram_buckets: Bins for CRAM symbology\n",
    "            colors: Text color for bins\n",
    "            h20_buckets: Bins for H2O symbology\n",
    "            \n",
    "        Returns\n",
    "            spatial data frame\n",
    "    '''\n",
    "    \n",
    "    correlation_key = 'CRAM CSCI Correlation'\n",
    "    trend_key = 'OCPW SDR Data 2009-2022'\n",
    "    \n",
    "    \n",
    "    cram = (raw_data[correlation_key]\n",
    "            .rename(columns=raw_data[correlation_key].iloc[0])\n",
    "            .loc[1:]\n",
    "            .iloc[:, [0, 1, 2, 3]]\n",
    "            .rename(columns=lambda col: col.replace(' ', ''))\n",
    "            .drop(columns=['Year'])\n",
    "            .assign(OverallCRAMScore=lambda x: x[\"OverallCRAMScore\"].astype(float))\n",
    "            .groupby(['Station'])\n",
    "            .mean()\n",
    "            )\n",
    "    \n",
    "    cram['CRAMColor'] = pd.cut(\n",
    "        x=cram['OverallCRAMScore'], bins=cram_buckets, labels=colors)\n",
    "    \n",
    "    # Fix for 2009 TC-AP station that was in close proximity to SMC00206\n",
    "    trends = raw_data[trend_key]\n",
    "    \n",
    "    trends['Station'] = np.where(\n",
    "        trends['Station Unique'] == 'TC-AP-2009', 'SMC00206', trends['Station'])\n",
    "    # End fix\n",
    "\n",
    "    csci_h20 = (trends\n",
    "                .iloc[:, [0, 1, 2, 3, 9, 11]]\n",
    "                .drop(columns=['Cluster Group', 'Year'])\n",
    "                .groupby(['Station', 'Parameter'])\n",
    "                .mean()\n",
    "                .reset_index()\n",
    "                .pivot(index='Station', columns='Parameter', values='Result')\n",
    "                )\n",
    "\n",
    "    csci_h20['CSCIColor'] = pd.cut(\n",
    "        x=csci_h20['CSCI'], bins=csci_buckets, labels=colors)\n",
    "    csci_h20['H20Color'] = pd.cut(\n",
    "        x=csci_h20['H20'], bins=h20_buckets, labels=colors)\n",
    "\n",
    "    cluster = trends.sort_values(by='Year').groupby(\n",
    "        'Station')[['Cluster Group', 'Year']].last()\n",
    "\n",
    "    output = (create_stations_historic(raw_data)\n",
    "              .merge(cram, on=['Station'], how='left')\n",
    "              .merge(csci_h20, on=['Station'], how='left')\n",
    "              .merge(cluster, on=['Station'], how='left')\n",
    "              .rename(columns=lambda col: col.replace(' ', ''))\n",
    "              .rename(columns=lambda col: col.replace('_', ''))\n",
    "              .assign(** {c: lambda df_, c=c: df_[c].astype('str') for c in ['CRAMColor', 'H20Color', 'CSCIColor']}) #python api does not like category dyptes\n",
    "              )\n",
    "    return (pd.DataFrame.spatial.from_xy(df=output,\n",
    "                                         x_column='Longitude',\n",
    "                                         y_column='Latitude',\n",
    "                                         sr=4326))\n",
    "\n",
    "    \n",
    "    \n",
    "def format_bioassessment(raw_data: dict, output_gdb: str):\n",
    "    '''Calls formatting functions and saves to gdb'''\n",
    "    \n",
    "    current_year = add_current_scores(raw_data)\n",
    "    trend_data = add_mean_scores(raw_data)\n",
    "    \n",
    "    current_year.spatial.to_featureclass(location=str(gdb_processed/'bio_stations'), overwrite=True)\n",
    "    trend_data.spatial.to_featureclass(location=str(gdb_processed/'bio_trends'), overwrite=True)\n",
    "    \n",
    "    return [current_year, trend_data]\n"
   ]
  },
  {
   "cell_type": "markdown",
   "metadata": {},
   "source": [
    "#### Analysis"
   ]
  },
  {
   "cell_type": "code",
   "execution_count": 32,
   "metadata": {},
   "outputs": [],
   "source": [
    "# Import raw data\n",
    "excel_data = pd.read_excel(dir_raw/'Maps info spreadsheet_2022.xlsx', sheet_name=None)\n"
   ]
  },
  {
   "cell_type": "code",
   "execution_count": 33,
   "metadata": {},
   "outputs": [],
   "source": [
    "# Analyze and save data to geodatabase\n",
    "results = format_bioassessment(excel_data, gdb_processed)\n"
   ]
  },
  {
   "attachments": {},
   "cell_type": "markdown",
   "metadata": {},
   "source": [
    "### Appendix B2 OCFS Maps\n",
    "\n",
    "Maps not created in 2021-22"
   ]
  },
  {
   "cell_type": "markdown",
   "metadata": {},
   "source": [
    "#### Function Definitions\n"
   ]
  },
  {
   "cell_type": "code",
   "execution_count": 84,
   "metadata": {},
   "outputs": [],
   "source": [
    "def format_ocfs(raw_data: dict, output_gdb: str, key: str = \"Data\"):\n",
    "\n",
    "    return (\n",
    "        GeoAccessor.from_xy(raw_data[key], \"Long\", \"Lat\").spatial.to_featureclass(\n",
    "            f'{output_gdb}\\\\ocfs_stations')\n",
    "    )\n"
   ]
  },
  {
   "cell_type": "code",
   "execution_count": 85,
   "metadata": {},
   "outputs": [
    {
     "data": {
      "text/plain": [
       "'h:\\\\ProjectsH\\\\Github\\\\WQIP-Annual-Report-2020-21-Maps\\\\data\\\\processed\\\\processed.gdb\\\\ocfs_stations'"
      ]
     },
     "execution_count": 85,
     "metadata": {},
     "output_type": "execute_result"
    }
   ],
   "source": [
    "ocfs_data = pd.read_excel(\n",
    "    dir_raw/'OCFS Coordinates.xlsx', sheet_name=None)\n",
    "\n",
    "# format_ocfs(ocfs_data, gdb_processed)\n"
   ]
  }
 ],
 "metadata": {
  "kernelspec": {
   "display_name": "Python 3.7.11 ('arcgispro-py3')",
   "language": "python",
   "name": "python3"
  },
  "language_info": {
   "codemirror_mode": {
    "name": "ipython",
    "version": 3
   },
   "file_extension": ".py",
   "mimetype": "text/x-python",
   "name": "python",
   "nbconvert_exporter": "python",
   "pygments_lexer": "ipython3",
   "version": "3.9.11"
  },
  "orig_nbformat": 4,
  "vscode": {
   "interpreter": {
    "hash": "ce21b655b4d6c9e397d5ad93d5666c623f49909f6d0cc2f72076dafcf1b3ecfb"
   }
  }
 },
 "nbformat": 4,
 "nbformat_minor": 2
}
