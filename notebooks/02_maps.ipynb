{
 "cells": [
  {
   "cell_type": "markdown",
   "metadata": {},
   "source": [
    "# Map data updates\n",
    "\n",
    "This notebook updates broken data sources with the processed data"
   ]
  },
  {
   "cell_type": "code",
   "execution_count": 1,
   "metadata": {},
   "outputs": [],
   "source": [
    "import os\n",
    "import sys\n",
    "import arcpy\n",
    "import pandas as pd\n",
    "import numpy as np\n",
    "from arcgis.gis import GIS\n",
    "from arcgis.features import GeoAccessor\n",
    "from pathlib import Path\n",
    "import pprint"
   ]
  },
  {
   "cell_type": "code",
   "execution_count": 2,
   "metadata": {},
   "outputs": [],
   "source": [
    "# Common paths\n",
    "dir_project = Path.cwd().parent\n",
    "dir_data = dir_project/'data'\n",
    "dir_raw = dir_data/'raw'\n",
    "dir_processed = dir_data/'processed'\n",
    "gdb_processed = dir_processed/'processed.gdb'\n",
    "gdb_package_C1 = dir_processed/'Appendix_C1.gdb'\n",
    "gdb_package_B2 = dir_processed/'Appendix_B2.gdb'\n",
    "aprx_name = 'SDR_WQIP_AnnualReport.aprx'\n",
    "\n",
    "aprx = arcpy.mp.ArcGISProject(dir_project/'arcgis'/aprx_name)"
   ]
  },
  {
   "cell_type": "code",
   "execution_count": 3,
   "metadata": {},
   "outputs": [],
   "source": [
    "# Fucntion Definitions\n",
    "def set_data_sources(test_run: bool = True, gdb_mappings: dict = None):\n",
    "    '''Updates data sources from mapping dictionary. Useful for when analysis is run from a new working directory\n",
    "    \n",
    "        Parameters\n",
    "            test_run: If true connection properties are updated, otherwise print current and proposed values\n",
    "            gdb_mapping: An object that lists map names and layers to update along with the replacement path\n",
    "    \n",
    "    '''\n",
    "    \n",
    "    maps = aprx.listMaps()\n",
    "    for map in maps:\n",
    "        if map.name in gdb_mappings.keys():\n",
    "            layers = map.listLayers()\n",
    "            config = gdb_mappings[map.name]\n",
    "            for layer in layers:\n",
    "                if layer.name in config['layers']:\n",
    "\n",
    "                    props = layer.connectionProperties\n",
    "                    props['connection_info']['database'] = str(config['target'])\n",
    "                    \n",
    "\n",
    "                    if not test_run:\n",
    "                        layer.updateConnectionProperties(layer.connectionProperties, props)\n",
    "                        print(f\"{map.name} | {layer.name}\")\n",
    "                        print(f\"    current={layer.connectionProperties['connection_info']['database']}\")\n",
    "                        print(f\"    new={props['connection_info']['database']}\")\n",
    "                    else:\n",
    "                        # pprint.pprint(layer.connectionProperties)\n",
    "                        # pprint.pprint(props)\n",
    "                        print(f\"{map.name} | {layer.name}\")\n",
    "                        print(f\"    current={layer.connectionProperties['connection_info']['database']}\")\n",
    "                        print(f\"    new={props['connection_info']['database']}\")\n",
    "                        \n"
   ]
  },
  {
   "cell_type": "code",
   "execution_count": 10,
   "metadata": {},
   "outputs": [
    {
     "name": "stdout",
     "output_type": "stream",
     "text": [
      "MP_Appendix_C1_AllFigures | Cluster Group\n",
      "    current=h:\\ProjectsH\\Github\\WQIP-Annual-Report-2020-21-Maps\\data\\processed\\Appendix_C1.gdb\n",
      "    new=h:\\ProjectsH\\Github\\WQIP-Annual-Report-2020-21-Maps\\data\\processed\\Appendix_C1.gdb\n",
      "MP_Appendix_C1_AllFigures | Mean H20 Score (2009-2021)\n",
      "    current=h:\\ProjectsH\\Github\\WQIP-Annual-Report-2020-21-Maps\\data\\processed\\Appendix_C1.gdb\n",
      "    new=h:\\ProjectsH\\Github\\WQIP-Annual-Report-2020-21-Maps\\data\\processed\\Appendix_C1.gdb\n",
      "MP_Appendix_C1_AllFigures | Mean CRAM Score (2009-2021)\n",
      "    current=h:\\ProjectsH\\Github\\WQIP-Annual-Report-2020-21-Maps\\data\\processed\\Appendix_C1.gdb\n",
      "    new=h:\\ProjectsH\\Github\\WQIP-Annual-Report-2020-21-Maps\\data\\processed\\Appendix_C1.gdb\n",
      "MP_Appendix_C1_AllFigures | Mean CSCI Score (2009-2021)\n",
      "    current=h:\\ProjectsH\\Github\\WQIP-Annual-Report-2020-21-Maps\\data\\processed\\Appendix_C1.gdb\n",
      "    new=h:\\ProjectsH\\Github\\WQIP-Annual-Report-2020-21-Maps\\data\\processed\\Appendix_C1.gdb\n",
      "MP_Appendix_C1_AllFigures | CRAM Score (Dense, Large Scale)\n",
      "    current=h:\\ProjectsH\\Github\\WQIP-Annual-Report-2020-21-Maps\\data\\processed\\Appendix_C1.gdb\n",
      "    new=h:\\ProjectsH\\Github\\WQIP-Annual-Report-2020-21-Maps\\data\\processed\\Appendix_C1.gdb\n",
      "MP_Appendix_C1_AllFigures | CSCI/CRAM Score (Dense, Small Scale)\n",
      "    current=h:\\ProjectsH\\Github\\WQIP-Annual-Report-2020-21-Maps\\data\\processed\\Appendix_C1.gdb\n",
      "    new=h:\\ProjectsH\\Github\\WQIP-Annual-Report-2020-21-Maps\\data\\processed\\Appendix_C1.gdb\n",
      "MP_Appendix_C1_AllFigures | CSCI Score (Dense, Large Scale)\n",
      "    current=h:\\ProjectsH\\Github\\WQIP-Annual-Report-2020-21-Maps\\data\\processed\\Appendix_C1.gdb\n",
      "    new=h:\\ProjectsH\\Github\\WQIP-Annual-Report-2020-21-Maps\\data\\processed\\Appendix_C1.gdb\n",
      "MP_Appendix_C1_AllFigures | CRAM Score\n",
      "    current=h:\\ProjectsH\\Github\\WQIP-Annual-Report-2020-21-Maps\\data\\processed\\Appendix_C1.gdb\n",
      "    new=h:\\ProjectsH\\Github\\WQIP-Annual-Report-2020-21-Maps\\data\\processed\\Appendix_C1.gdb\n",
      "MP_Appendix_C1_AllFigures | CSCI Score\n",
      "    current=h:\\ProjectsH\\Github\\WQIP-Annual-Report-2020-21-Maps\\data\\processed\\Appendix_C1.gdb\n",
      "    new=h:\\ProjectsH\\Github\\WQIP-Annual-Report-2020-21-Maps\\data\\processed\\Appendix_C1.gdb\n",
      "MP_Appendix_C1_AllFigures | Stations\n",
      "    current=h:\\ProjectsH\\Github\\WQIP-Annual-Report-2020-21-Maps\\data\\processed\\Appendix_C1.gdb\n",
      "    new=h:\\ProjectsH\\Github\\WQIP-Annual-Report-2020-21-Maps\\data\\processed\\Appendix_C1.gdb\n",
      "PR_Appendix_C1_AllFigures | Cluster Group\n",
      "    current=h:\\ProjectsH\\Github\\WQIP-Annual-Report-2020-21-Maps\\data\\processed\\Appendix_C1.gdb\n",
      "    new=h:\\ProjectsH\\Github\\WQIP-Annual-Report-2020-21-Maps\\data\\processed\\processed.gdb\n",
      "PR_Appendix_C1_AllFigures | Mean H20 Score (2009-2021)\n",
      "    current=h:\\ProjectsH\\Github\\WQIP-Annual-Report-2020-21-Maps\\data\\processed\\processed.gdb\n",
      "    new=h:\\ProjectsH\\Github\\WQIP-Annual-Report-2020-21-Maps\\data\\processed\\processed.gdb\n",
      "PR_Appendix_C1_AllFigures | Mean CRAM Score (2009-2021)\n",
      "    current=h:\\ProjectsH\\Github\\WQIP-Annual-Report-2020-21-Maps\\data\\processed\\processed.gdb\n",
      "    new=h:\\ProjectsH\\Github\\WQIP-Annual-Report-2020-21-Maps\\data\\processed\\processed.gdb\n",
      "PR_Appendix_C1_AllFigures | Mean CSCI Score (2009-2021)\n",
      "    current=h:\\ProjectsH\\Github\\WQIP-Annual-Report-2020-21-Maps\\data\\processed\\processed.gdb\n",
      "    new=h:\\ProjectsH\\Github\\WQIP-Annual-Report-2020-21-Maps\\data\\processed\\processed.gdb\n",
      "PR_Appendix_C1_AllFigures | CRAM Score (Dense, Large Scale)\n",
      "    current=h:\\ProjectsH\\Github\\WQIP-Annual-Report-2020-21-Maps\\data\\processed\\processed.gdb\n",
      "    new=h:\\ProjectsH\\Github\\WQIP-Annual-Report-2020-21-Maps\\data\\processed\\processed.gdb\n",
      "PR_Appendix_C1_AllFigures | CSCI/CRAM Score (Dense, Small Scale)\n",
      "    current=h:\\ProjectsH\\Github\\WQIP-Annual-Report-2020-21-Maps\\data\\processed\\processed.gdb\n",
      "    new=h:\\ProjectsH\\Github\\WQIP-Annual-Report-2020-21-Maps\\data\\processed\\processed.gdb\n",
      "PR_Appendix_C1_AllFigures | CSCI Score (Dense, Large Scale)\n",
      "    current=h:\\ProjectsH\\Github\\WQIP-Annual-Report-2020-21-Maps\\data\\processed\\processed.gdb\n",
      "    new=h:\\ProjectsH\\Github\\WQIP-Annual-Report-2020-21-Maps\\data\\processed\\processed.gdb\n",
      "PR_Appendix_C1_AllFigures | CRAM Score\n",
      "    current=h:\\ProjectsH\\Github\\WQIP-Annual-Report-2020-21-Maps\\data\\processed\\processed.gdb\n",
      "    new=h:\\ProjectsH\\Github\\WQIP-Annual-Report-2020-21-Maps\\data\\processed\\processed.gdb\n",
      "PR_Appendix_C1_AllFigures | CSCI Score\n",
      "    current=h:\\ProjectsH\\Github\\WQIP-Annual-Report-2020-21-Maps\\data\\processed\\processed.gdb\n",
      "    new=h:\\ProjectsH\\Github\\WQIP-Annual-Report-2020-21-Maps\\data\\processed\\processed.gdb\n",
      "PR_Appendix_C1_AllFigures | Stations\n",
      "    current=h:\\ProjectsH\\Github\\WQIP-Annual-Report-2020-21-Maps\\data\\processed\\processed.gdb\n",
      "    new=h:\\ProjectsH\\Github\\WQIP-Annual-Report-2020-21-Maps\\data\\processed\\processed.gdb\n",
      "MP_Appendix_B2_Fig_2-6 | Stations\n",
      "    current=h:\\ProjectsH\\Github\\WQIP-Annual-Report-2020-21-Maps\\data\\processed\\Appendix_B2.gdb\n",
      "    new=h:\\ProjectsH\\Github\\WQIP-Annual-Report-2020-21-Maps\\data\\processed\\Appendix_B2.gdb\n",
      "PR_Appendix_B2_Fig_2-6 | Stations\n",
      "    current=h:\\ProjectsH\\Github\\WQIP-Annual-Report-2020-21-Maps\\data\\processed\\Appendix_B2.gdb\n",
      "    new=h:\\ProjectsH\\Github\\WQIP-Annual-Report-2020-21-Maps\\data\\processed\\processed.gdb\n"
     ]
    }
   ],
   "source": [
    "layer_names = [\n",
    "    'Cluster Group',\n",
    "    'Mean H20 Score (2009-2021)',\n",
    "    'Mean CRAM Score (2009-2021)',\n",
    "    'Mean CSCI Score (2009-2021)',\n",
    "    'CRAM Score (Dense, Large Scale)',\n",
    "    'CSCI/CRAM Score (Dense, Small Scale)',\n",
    "    'CSCI Score (Dense, Large Scale)',\n",
    "    'CRAM Score',\n",
    "    'CSCI Score',\n",
    "    'Stations'\n",
    "]\n",
    "\n",
    "gdb_mappings = {\n",
    "    'PR_Appendix_C1_AllFigures': {\n",
    "        'target': gdb_processed,\n",
    "        'layers': layer_names\n",
    "        },\n",
    "    'PR_Appendix_B2_Fig_2-6': {\n",
    "        'target': gdb_processed,\n",
    "        'layers': layer_names\n",
    "        },\n",
    "    'MP_Appendix_C1_AllFigures': {\n",
    "        'target': gdb_package_C1,\n",
    "        'layers': layer_names\n",
    "        },\n",
    "    'MP_Appendix_B2_Fig_2-6': {\n",
    "        'target': gdb_package_B2,\n",
    "        'layers': layer_names\n",
    "        }\n",
    "}\n",
    "\n",
    "set_data_sources(test_run=False, gdb_mappings=gdb_mappings)"
   ]
  },
  {
   "cell_type": "code",
   "execution_count": 11,
   "metadata": {},
   "outputs": [],
   "source": [
    "aprx.save()\n"
   ]
  },
  {
   "cell_type": "code",
   "execution_count": null,
   "metadata": {},
   "outputs": [],
   "source": []
  },
  {
   "cell_type": "code",
   "execution_count": null,
   "metadata": {},
   "outputs": [],
   "source": []
  }
 ],
 "metadata": {
  "kernelspec": {
   "display_name": "Python 3.7.11 ('arcgispro-py3')",
   "language": "python",
   "name": "python3"
  },
  "language_info": {
   "codemirror_mode": {
    "name": "ipython",
    "version": 3
   },
   "file_extension": ".py",
   "mimetype": "text/x-python",
   "name": "python",
   "nbconvert_exporter": "python",
   "pygments_lexer": "ipython3",
   "version": "3.7.11"
  },
  "orig_nbformat": 4,
  "vscode": {
   "interpreter": {
    "hash": "ce21b655b4d6c9e397d5ad93d5666c623f49909f6d0cc2f72076dafcf1b3ecfb"
   }
  }
 },
 "nbformat": 4,
 "nbformat_minor": 2
}
